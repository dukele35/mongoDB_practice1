{
 "cells": [
  {
   "cell_type": "code",
   "execution_count": 1,
   "metadata": {
    "scrolled": true
   },
   "outputs": [
    {
     "name": "stdout",
     "output_type": "stream",
     "text": [
      "1. The kind of cuisine with more restaurants in the city is American  (with a 24.381876256950193 percentage of restaurants of the city)\n",
      "\n",
      "2. The borough with smaller ratio of restaurants of this kind of cuisine is Bronx (with a 17.57912745936698 percentage of restaurants of this kind)\n",
      "\n",
      "3. The zipcode of the borough with smaller ratio of restaurants of this kind of cuisine is zipcode = 10467 (with a 9.036144578313253 percentage of restaurants of this kind)\n",
      "\n",
      "4. The best three restaurants (of this kind of couisine) at these zipcode are: Kennedy'S Chicken And Pizza (with average reviews score of 15.8 ), V.I.P.'S Cafe (with average reviews score of 12.666666666666666 ), Burger Barn Restaurant (with average reviews score of 12.6 )\n"
     ]
    }
   ],
   "source": [
    "import json\n",
    "import codecs\n",
    "import sys\n",
    "import pymongo\n",
    "\n",
    "# ------------------------------------------\n",
    "# FUNCTION 1: most_popular_cuisine\n",
    "# ------------------------------------------\n",
    "def most_popular_cuisine(my_collection):\n",
    "    \n",
    "    # total number of restaurants in New York\n",
    "    total_restaurants = my_collection.count_documents({})\n",
    "    \n",
    "    # creating pipeline to aggregate data from my_collection to \n",
    "    # get the cuisine with the highest number of restaurants in New York\n",
    "    most_popular_cuisine = list(my_collection.aggregate([\n",
    "        # grouping and counting for each cuisine\n",
    "        {\"$group\": {\"_id\": \"$cuisine\", \"n_restaurants\" : {\"$sum\": 1}}},\n",
    "        # descending sorting for each of cuisine's number of restaurants\n",
    "        {\"$sort\": {\"n_restaurants\": -1}},\n",
    "        # getting the first result, i.e. the cuisine with the highest number of restaurants\n",
    "        {\"$limit\": 1}\n",
    "    ]))\n",
    "    \n",
    "    # getting the name of cuisine with the highest number of restaurants\n",
    "    cuisine_name = most_popular_cuisine[0]['_id']\n",
    "    \n",
    "    # getting the number of restaurants for the most popular cuisine\n",
    "    no_restaurants = most_popular_cuisine[0]['n_restaurants'] \n",
    "    \n",
    "    # calculating the most popular cuisine's restanrant ratio with the total number of restaurants in New York\n",
    "    ratio_cuisine = no_restaurants / total_restaurants * 100\n",
    "\n",
    "    return cuisine_name, ratio_cuisine\n",
    "\n",
    "\n",
    "# ------------------------------------------\n",
    "# FUNCTION 2: ratio_per_borough_and_cuisine\n",
    "# ------------------------------------------\n",
    "def ratio_per_borough_and_cuisine(my_collection, cuisine):\n",
    "    \n",
    "    # list of boroughs in an ascending order\n",
    "    boroughs = sorted(my_collection.distinct('borough'))\n",
    "    \n",
    "    #... \n",
    "    cuisine_restaurants_by_boroughs = list(my_collection.aggregate([\n",
    "        # filtering/matching the \"cuisine\" key with the most popular cuisine from \"most_popular_cuisine()\"\n",
    "        {\"$match\": {\"cuisine\": cuisine}},\n",
    "\n",
    "        # counting restaurants for each borough\n",
    "        {\"$group\": {\"_id\": \"$borough\", \"n_restaurants\" : {\"$sum\": 1}}},\n",
    "\n",
    "        # sorting results by boroughs' names in an ascending order\n",
    "        {\"$sort\": {\"_id\": 1}}\n",
    "    ]))\n",
    "    \n",
    "    #...\n",
    "    all_restaurants_by_boroughs = list(my_collection.aggregate([\n",
    "        # counting restaurants for each borough\n",
    "        {\"$group\": {\"_id\": \"$borough\", \"n_restaurants\" : {\"$sum\": 1}}},\n",
    "\n",
    "        # sorting results by boroughs' names in an ascending order\n",
    "        {\"$sort\": {\"_id\": 1}}\n",
    "    ]))\n",
    "    \n",
    "    \n",
    "    # getting a list of number of the \"most-popular-cuisine\" restaurants for each borough \n",
    "    cuisine_boroughs = [i['n_restaurants'] for i in cuisine_restaurants_by_boroughs]\n",
    "\n",
    "    # getting a list of number of all-kind-of restaurants for each borough \n",
    "    all_boroughs = [i['n_restaurants'] for i in all_restaurants_by_boroughs]\n",
    "    \n",
    "    # getting a list of ratio of the \"most-popular-cuisine\" restaurants to the number of all restaurants in each borough\n",
    "    ratio = [cu/al for cu,al in zip(cuisine_boroughs, all_boroughs)]\n",
    "    \n",
    "    # the borough with the lowest ratio \n",
    "    potential_borough = boroughs[ratio.index(min(ratio))]\n",
    "    \n",
    "    # the lowest ratio\n",
    "    lowest_ratio = min(ratio) * 100\n",
    "    \n",
    "    return potential_borough, lowest_ratio\n",
    "    \n",
    "    \n",
    "    \n",
    "# ------------------------------------------\n",
    "# FUNCTION 3: ratio_per_zipcode\n",
    "# ------------------------------------------\n",
    "def ratio_per_zipcode(my_collection, cuisine, borough):\n",
    "\n",
    "    #...\n",
    "    top_5_most_rest = list(my_collection.aggregate([\n",
    "        # filtering/matching the \"borough\" key with the chosen borough from the ratio_per_borough_and_cuisine() \n",
    "        {\"$match\": {\"borough\": borough}},\n",
    "\n",
    "        # counting restaurants for all zipcodes in the chosen borough\n",
    "        {\"$group\": {\"_id\": \"$address.zipcode\", \"count\": {\"$sum\": 1}}},\n",
    "\n",
    "        # sorting the restaurant counts in an descending order, i.e. the greatest coming first and the fewest coming last\n",
    "        {\"$sort\": {\"count\": -1}},\n",
    "\n",
    "        # choosing the top 5 zipcodes with the most restaurants\n",
    "        {\"$limit\": 5},\n",
    "\n",
    "        # sorting zipcodes in an descending order\n",
    "        # this is important for calculating the ratio of restaurants\n",
    "        # of the chosen cuisine in the following steps\n",
    "        {\"$sort\": {\"_id\": -1}} \n",
    "    ]))\n",
    "    \n",
    "    # list of the top 5 postcodes \n",
    "    top_5_zip = [i['_id'] for i in top_5_most_rest]\n",
    "    \n",
    "    # list of number of all restaurants for the top 5 postcodes\n",
    "    no_rest_for_top_5 = [i[\"count\"] for i in top_5_most_rest]\n",
    "    \n",
    "    #....\n",
    "    cuis_rest_in_zip = list(my_collection.aggregate([\n",
    "\n",
    "        # filtering/matching the \"cuisine\" key with the most popular cuisine from most_popular_cuisine()\n",
    "        # and the \"borough\" key with the chosen borough from the ratio_per_borough_and_cuisine() \n",
    "        {\"$match\": {\"cuisine\": cuisine, \"borough\": borough}},\n",
    "\n",
    "        # counting restaurants for all zipcodes in the chosen borough with the chosen cuisine\n",
    "        {\"$group\": {\"_id\": \"$address.zipcode\", \"count\": {\"$sum\": 1}}},\n",
    "\n",
    "        # sorting zipcodes in an descending order\n",
    "        # this is important for calculating the ratio of restaurants\n",
    "        # of the chosen cuisine in the following steps\n",
    "        {\"$sort\": {\"_id\": -1}},\n",
    "\n",
    "    ]))\n",
    "    \n",
    "    # list of the number of the \"cuisine\" restaurants in the top-5 zipcodes having the most of restaurants\n",
    "    cuis_rest_in_top_5_zip = [i['count'] for i in cuis_rest_in_zip if i['_id'] in top_5_zip]\n",
    "    \n",
    "    # list of ratios of the \"cuisine\" restaurants to all restaurants for top 5 zipcodes\n",
    "    ratio_top_5 = [cuis / top5 for cuis , top5 in zip(cuis_rest_in_top_5_zip, no_rest_for_top_5)]\n",
    "    \n",
    "    # the target zipcode\n",
    "    target_zip = top_5_zip[ratio_top_5.index(min(ratio_top_5))]\n",
    "    \n",
    "    # the lowest ratio \n",
    "    ratio = min(ratio_top_5) * 100        \n",
    "\n",
    "    return target_zip, ratio\n",
    "\n",
    "# ------------------------------------------\n",
    "# FUNCTION 4: best_restaurants\n",
    "# ------------------------------------------\n",
    "def best_restaurants(my_collection, cuisine, borough, zipcode):\n",
    "    \n",
    "    #...\n",
    "    rest_review_count = list(my_collection.aggregate([\n",
    "\n",
    "        # filtering/matching the \"cuisine\" key with the most popular cuisine from most_popular_cuisine(),\n",
    "        # the \"borough\" key with the chosen borough from the ratio_per_borough_and_cuisine()\n",
    "        # and \"zipcode\" with the chosen zipcodes from the ratio_per_zipcode()\n",
    "        {\"$match\": {\"address.zipcode\": zipcode, \"borough\": borough,\"cuisine\": cuisine}},\n",
    "\n",
    "        # drilling down the 'grade' field\n",
    "        {\"$unwind\": \"$grades\"},\n",
    "\n",
    "        # counting no. of reviews for each restaurants\n",
    "        {\"$group\": {\"_id\": \"$name\", \"count\": {\"$sum\": 1}}}\n",
    "    ]))\n",
    "    \n",
    "    # list of restaurants having at least 4 reviews\n",
    "    rest_list = [i['_id'] for i in rest_review_count if i['count'] >= 4]\n",
    "    \n",
    "    #...\n",
    "    target_rest = list(my_collection.aggregate([\n",
    "\n",
    "        # getting info from restaurants having at least 4 reviews\n",
    "        {\"$match\": {\"name\": {\"$in\": rest_list}}},\n",
    "\n",
    "        # drilling down the 'grade' field\n",
    "        {\"$unwind\": \"$grades\"},\n",
    "\n",
    "        # calculating avarage review scores for each restaurants\n",
    "        {\"$group\": {\"_id\": \"$name\", \"average_score\": {\"$avg\": \"$grades.score\"}}},\n",
    "\n",
    "        # sorting restaurants having the average review scores in a descending order\n",
    "        {\"$sort\": {\"average_score\": -1}},\n",
    "\n",
    "        # getting the top three restaurants having the best average review scores\n",
    "        {\"$limit\": 3}\n",
    "    ]))\n",
    "    \n",
    "    # getting restaurants' names and their average review scores\n",
    "    best, reviews = [i['_id'] for i in target_rest], [i['average_score'] for i in target_rest]\n",
    "    \n",
    "    return best, reviews\n",
    "\n",
    "\n",
    "# ------------------------------------------\n",
    "# FUNCTION my_main\n",
    "# ------------------------------------------/\n",
    "def my_main(database_name, collection_name):\n",
    "    # 1. We set up the connection to mongos.exe allowing us to access to the cluster\n",
    "    mongo_client = pymongo.MongoClient()\n",
    "\n",
    "    # 2. We access to the desired database\n",
    "    db = mongo_client.get_database(database_name)\n",
    "\n",
    "    # 3. We access to the desired collection\n",
    "    collection = db.get_collection(collection_name)\n",
    "\n",
    "    # 4. What is the kind of cuisine with more restaurants in the city?\n",
    "    (cuisine, ratio_cuisine) = most_popular_cuisine(collection)\n",
    "    print(\"1. The kind of cuisine with more restaurants in the city is\", cuisine, \"(with a\", ratio_cuisine, \"percentage of restaurants of the city)\")\n",
    "\n",
    "    # 5. Which is the borough with smaller ratio of restaurants of this kind of cuisine?\n",
    "    (borough, ratio_borough) = ratio_per_borough_and_cuisine(collection, cuisine)\n",
    "    print(\"\\n2. The borough with smaller ratio of restaurants of this kind of cuisine is\", borough, \"(with a\", ratio_borough, \"percentage of restaurants of this kind)\")\n",
    "\n",
    "    # 6. Which of the 5 biggest zipcodes of the borough has a smaller ratio of restaurants of the cuisine we are looking for?\n",
    "    (zipcode, ratio_zipcode) = ratio_per_zipcode(collection, cuisine, borough)\n",
    "    print(\"\\n3. The zipcode of the borough with smaller ratio of restaurants of this kind of cuisine is zipcode =\", zipcode, \"(with a\", ratio_zipcode, \"percentage of restaurants of this kind)\")\n",
    "\n",
    "    # 7. Which are the best 3 restaurants (of the kind of cuisine we are looking for) of our zipcode?\n",
    "    (best, reviews) = best_restaurants(collection, cuisine, borough, zipcode)\n",
    "    print(\"\\n4. The best three restaurants (of this kind of couisine) at these zipcode are:\", best[0], \"(with average reviews score of\", reviews[0], \"),\", best[1], \"(with average reviews score of\", reviews[1], \"),\", best[2], \"(with average reviews score of\", reviews[2], \")\")\n",
    "\n",
    "    # 8. Close the client\n",
    "    mongo_client.close()\n",
    "\n",
    "# ---------------------------------------------------------------\n",
    "#           PYTHON EXECUTION\n",
    "# This is the main entry point to the execution of our program.\n",
    "# It provides a call to the 'main function' defined in our\n",
    "# Python program, making the Python interpreter to trigger\n",
    "# its execution.\n",
    "# ---------------------------------------------------------------\n",
    "if __name__ == '__main__':\n",
    "    # 1. We get the input arguments\n",
    "    my_database = \"test\"\n",
    "    my_collection = \"restaurants\"\n",
    "\n",
    "    # 2. We call to my_main\n",
    "    my_main(my_database, my_collection)"
   ]
  },
  {
   "cell_type": "markdown",
   "metadata": {},
   "source": [
    "### work directly with the collection"
   ]
  },
  {
   "cell_type": "code",
   "execution_count": 2,
   "metadata": {},
   "outputs": [],
   "source": [
    "mongo_client = pymongo.MongoClient()\n",
    "# database\n",
    "db = mongo_client.get_database(\"test\")\n",
    "# collection\n",
    "collection = db.get_collection(\"restaurants\")"
   ]
  },
  {
   "cell_type": "code",
   "execution_count": 3,
   "metadata": {},
   "outputs": [
    {
     "data": {
      "text/plain": [
       "25359"
      ]
     },
     "execution_count": 3,
     "metadata": {},
     "output_type": "execute_result"
    }
   ],
   "source": [
    "# count documents in a collection\n",
    "collection.count_documents({})"
   ]
  },
  {
   "cell_type": "code",
   "execution_count": 4,
   "metadata": {},
   "outputs": [
    {
     "data": {
      "text/plain": [
       "['restaurants']"
      ]
     },
     "execution_count": 4,
     "metadata": {},
     "output_type": "execute_result"
    }
   ],
   "source": [
    "# list collection names\n",
    "db.list_collection_names()"
   ]
  },
  {
   "cell_type": "code",
   "execution_count": 5,
   "metadata": {
    "scrolled": false
   },
   "outputs": [
    {
     "data": {
      "text/plain": [
       "{'_id': ObjectId('5e90aa0236fad163810b28bc'),\n",
       " 'address': {'building': '2780',\n",
       "  'coord': [-73.98241999999999, 40.579505],\n",
       "  'street': 'Stillwell Avenue',\n",
       "  'zipcode': '11224'},\n",
       " 'borough': 'Brooklyn',\n",
       " 'cuisine': 'American ',\n",
       " 'grades': [{'date': datetime.datetime(2014, 6, 10, 0, 0),\n",
       "   'grade': 'A',\n",
       "   'score': 5},\n",
       "  {'date': datetime.datetime(2013, 6, 5, 0, 0), 'grade': 'A', 'score': 7},\n",
       "  {'date': datetime.datetime(2012, 4, 13, 0, 0), 'grade': 'A', 'score': 12},\n",
       "  {'date': datetime.datetime(2011, 10, 12, 0, 0), 'grade': 'A', 'score': 12}],\n",
       " 'name': 'Riviera Caterer',\n",
       " 'restaurant_id': '40356018'}"
      ]
     },
     "execution_count": 5,
     "metadata": {},
     "output_type": "execute_result"
    }
   ],
   "source": [
    "# retrieve sample document in the collection\n",
    "collection.find_one()"
   ]
  },
  {
   "cell_type": "markdown",
   "metadata": {},
   "source": [
    "### Nhap cau 1"
   ]
  },
  {
   "cell_type": "code",
   "execution_count": 6,
   "metadata": {},
   "outputs": [
    {
     "data": {
      "text/plain": [
       "['Afghan', 'African', 'American ', 'Armenian']"
      ]
     },
     "execution_count": 6,
     "metadata": {},
     "output_type": "execute_result"
    }
   ],
   "source": [
    "# list of cuisines\n",
    "collection.distinct('cuisine')[:4]"
   ]
  },
  {
   "cell_type": "code",
   "execution_count": 7,
   "metadata": {},
   "outputs": [
    {
     "data": {
      "text/plain": [
       "25359"
      ]
     },
     "execution_count": 7,
     "metadata": {},
     "output_type": "execute_result"
    }
   ],
   "source": [
    "# total number of restaurants\n",
    "total_restaurants = collection.count_documents({})\n",
    "total_restaurants"
   ]
  },
  {
   "cell_type": "code",
   "execution_count": 8,
   "metadata": {},
   "outputs": [],
   "source": [
    "most_popular_cuisine = list(collection.aggregate([\n",
    "    \n",
    "    # grouping and counting for each cuisine\n",
    "    {\"$group\": {\"_id\": \"$cuisine\", \"n_restaurants\" : {\"$sum\": 1}}},\n",
    "    \n",
    "    # descending sorting for each of cuisine's number of restaurants\n",
    "    {\"$sort\": {\"n_restaurants\": -1}},\n",
    "    \n",
    "    # getting the first result, i.e. the cuisine with the highest number of restaurants\n",
    "    {\"$limit\": 1}\n",
    "    \n",
    "]))"
   ]
  },
  {
   "cell_type": "code",
   "execution_count": 9,
   "metadata": {},
   "outputs": [
    {
     "data": {
      "text/plain": [
       "[{'_id': 'American ', 'n_restaurants': 6183}]"
      ]
     },
     "execution_count": 9,
     "metadata": {},
     "output_type": "execute_result"
    }
   ],
   "source": [
    "most_popular_cuisine"
   ]
  },
  {
   "cell_type": "code",
   "execution_count": 10,
   "metadata": {},
   "outputs": [
    {
     "data": {
      "text/plain": [
       "'American '"
      ]
     },
     "execution_count": 10,
     "metadata": {},
     "output_type": "execute_result"
    }
   ],
   "source": [
    "cuisine_name = most_popular_cuisine[0]['_id']\n",
    "cuisine_name"
   ]
  },
  {
   "cell_type": "code",
   "execution_count": 11,
   "metadata": {
    "scrolled": true
   },
   "outputs": [
    {
     "data": {
      "text/plain": [
       "6183"
      ]
     },
     "execution_count": 11,
     "metadata": {},
     "output_type": "execute_result"
    }
   ],
   "source": [
    "no_restaurants = most_popular_cuisine[0]['n_restaurants'] \n",
    "no_restaurants"
   ]
  },
  {
   "cell_type": "code",
   "execution_count": 12,
   "metadata": {},
   "outputs": [
    {
     "data": {
      "text/plain": [
       "24.381876256950193"
      ]
     },
     "execution_count": 12,
     "metadata": {},
     "output_type": "execute_result"
    }
   ],
   "source": [
    "ratio_cuisine = no_restaurants / total_restaurants * 100\n",
    "ratio_cuisine"
   ]
  },
  {
   "cell_type": "markdown",
   "metadata": {},
   "source": [
    "### Nhap cau 2"
   ]
  },
  {
   "cell_type": "code",
   "execution_count": 13,
   "metadata": {},
   "outputs": [
    {
     "data": {
      "text/plain": [
       "['Bronx', 'Brooklyn', 'Manhattan', 'Missing', 'Queens', 'Staten Island']"
      ]
     },
     "execution_count": 13,
     "metadata": {},
     "output_type": "execute_result"
    }
   ],
   "source": [
    "# list of boroughs in an ascending order\n",
    "boroughs = sorted(collection.distinct('borough'))\n",
    "boroughs"
   ]
  },
  {
   "cell_type": "code",
   "execution_count": 33,
   "metadata": {},
   "outputs": [
    {
     "data": {
      "text/plain": [
       "[{'_id': 'Bronx', 'n_restaurants': 411},\n",
       " {'_id': 'Brooklyn', 'n_restaurants': 1273},\n",
       " {'_id': 'Manhattan', 'n_restaurants': 3205},\n",
       " {'_id': 'Missing', 'n_restaurants': 10},\n",
       " {'_id': 'Queens', 'n_restaurants': 1040},\n",
       " {'_id': 'Staten Island', 'n_restaurants': 244}]"
      ]
     },
     "execution_count": 33,
     "metadata": {},
     "output_type": "execute_result"
    }
   ],
   "source": [
    "cuisine = \"American \"\n",
    "\n",
    "cuisine_restaurants_by_boroughs = list(collection.aggregate([\n",
    "    \n",
    "    # filtering/matching the \"cuisine\" key with the most popular cuisine from most_popular_cuisine()\n",
    "    {\"$match\": {\"cuisine\": cuisine}},\n",
    "    \n",
    "    # counting restaurants for each borough\n",
    "    {\"$group\": {\"_id\": \"$borough\", \"n_restaurants\" : {\"$sum\": 1}}},\n",
    "    \n",
    "    # sorting results by boroughs' names in an ascending order\n",
    "    {\"$sort\": {\"_id\": 1}},\n",
    "    \n",
    "]))\n",
    "\n",
    "cuisine_restaurants_by_boroughs"
   ]
  },
  {
   "cell_type": "code",
   "execution_count": 15,
   "metadata": {},
   "outputs": [
    {
     "data": {
      "text/plain": [
       "[411, 1273, 3205, 10, 1040, 244]"
      ]
     },
     "execution_count": 15,
     "metadata": {},
     "output_type": "execute_result"
    }
   ],
   "source": [
    "# getting a list of number of the \"most-popular-cuisine\" restaurants for each borough \n",
    "cuisine_boroughs = [i['n_restaurants'] for i in cuisine_restaurants_by_boroughs]\n",
    "cuisine_boroughs"
   ]
  },
  {
   "cell_type": "code",
   "execution_count": 16,
   "metadata": {},
   "outputs": [
    {
     "data": {
      "text/plain": [
       "[{'_id': 'Bronx', 'n_restaurants': 2338},\n",
       " {'_id': 'Brooklyn', 'n_restaurants': 6086},\n",
       " {'_id': 'Manhattan', 'n_restaurants': 10259},\n",
       " {'_id': 'Missing', 'n_restaurants': 51},\n",
       " {'_id': 'Queens', 'n_restaurants': 5656},\n",
       " {'_id': 'Staten Island', 'n_restaurants': 969}]"
      ]
     },
     "execution_count": 16,
     "metadata": {},
     "output_type": "execute_result"
    }
   ],
   "source": [
    "all_restaurants_by_boroughs = list(collection.aggregate([\n",
    "    \n",
    "    # counting restaurants for each borough\n",
    "    {\"$group\": {\"_id\": \"$borough\", \"n_restaurants\" : {\"$sum\": 1}}},\n",
    "    \n",
    "    # sorting results by boroughs' names in an ascending order\n",
    "    {\"$sort\": {\"_id\": 1}},\n",
    "    \n",
    "]))\n",
    "all_restaurants_by_boroughs"
   ]
  },
  {
   "cell_type": "code",
   "execution_count": 17,
   "metadata": {},
   "outputs": [
    {
     "data": {
      "text/plain": [
       "[2338, 6086, 10259, 51, 5656, 969]"
      ]
     },
     "execution_count": 17,
     "metadata": {},
     "output_type": "execute_result"
    }
   ],
   "source": [
    "# getting a list of number of all-kind-of restaurants for each borough \n",
    "all_boroughs = [i['n_restaurants'] for i in all_restaurants_by_boroughs]\n",
    "all_boroughs"
   ]
  },
  {
   "cell_type": "code",
   "execution_count": 18,
   "metadata": {},
   "outputs": [
    {
     "data": {
      "text/plain": [
       "[0.1757912745936698,\n",
       " 0.20916858363457114,\n",
       " 0.31240861682425186,\n",
       " 0.19607843137254902,\n",
       " 0.18387553041018387,\n",
       " 0.2518059855521156]"
      ]
     },
     "execution_count": 18,
     "metadata": {},
     "output_type": "execute_result"
    }
   ],
   "source": [
    "# getting a list of ratio between the \"most-popular-cuisine\" restaurants with the number of all restaurants in each borough\n",
    "ratio = [c / a for c, a in zip(cuisine_boroughs, all_boroughs)]\n",
    "ratio"
   ]
  },
  {
   "cell_type": "code",
   "execution_count": 19,
   "metadata": {},
   "outputs": [
    {
     "data": {
      "text/plain": [
       "'Bronx'"
      ]
     },
     "execution_count": 19,
     "metadata": {},
     "output_type": "execute_result"
    }
   ],
   "source": [
    "boroughs[ratio.index(min(ratio))]"
   ]
  },
  {
   "cell_type": "code",
   "execution_count": 20,
   "metadata": {},
   "outputs": [
    {
     "data": {
      "text/plain": [
       "17.57912745936698"
      ]
     },
     "execution_count": 20,
     "metadata": {},
     "output_type": "execute_result"
    }
   ],
   "source": [
    "min(ratio) * 100"
   ]
  },
  {
   "cell_type": "markdown",
   "metadata": {},
   "source": [
    "## Nhap cau 3"
   ]
  },
  {
   "cell_type": "code",
   "execution_count": 21,
   "metadata": {},
   "outputs": [
    {
     "data": {
      "text/plain": [
       "[{'_id': '10467', 'count': 166},\n",
       " {'_id': '10462', 'count': 150},\n",
       " {'_id': '10461', 'count': 152},\n",
       " {'_id': '10458', 'count': 193},\n",
       " {'_id': '10451', 'count': 161}]"
      ]
     },
     "execution_count": 21,
     "metadata": {},
     "output_type": "execute_result"
    }
   ],
   "source": [
    "borough = 'Bronx'\n",
    "\n",
    "top_5_most_rest = list(collection.aggregate([\n",
    "    \n",
    "    # filtering/matching the \"borough\" key with the chosen borough from the ratio_per_borough_and_cuisine() \n",
    "    {\"$match\": {\"borough\": borough}},\n",
    "    \n",
    "    # counting restaurants for all zipcodes in the chosen borough\n",
    "    {\"$group\": {\"_id\": \"$address.zipcode\", \"count\": {\"$sum\": 1}}},\n",
    "    \n",
    "    # sorting the restaurant counts in an descending order, i.e. the greatest coming first and the fewest coming last\n",
    "    {\"$sort\": {\"count\": -1}},\n",
    "    \n",
    "    # choosing the top 5 zipcodes with the most restaurants\n",
    "    {\"$limit\": 5},\n",
    "    \n",
    "    # sorting zipcodes in an descending order\n",
    "    # this is important for calculating the ratio of restaurants\n",
    "    # of the chosen cuisine in the following steps\n",
    "    {\"$sort\": {\"_id\": -1}} \n",
    "]))\n",
    "\n",
    "top_5_most_rest"
   ]
  },
  {
   "cell_type": "code",
   "execution_count": 22,
   "metadata": {},
   "outputs": [
    {
     "data": {
      "text/plain": [
       "['10467', '10462', '10461', '10458', '10451']"
      ]
     },
     "execution_count": 22,
     "metadata": {},
     "output_type": "execute_result"
    }
   ],
   "source": [
    "# list of the top 5 postcodes \n",
    "top_5_zip = [i['_id'] for i in top_5_most_rest]\n",
    "top_5_zip"
   ]
  },
  {
   "cell_type": "code",
   "execution_count": 23,
   "metadata": {},
   "outputs": [
    {
     "data": {
      "text/plain": [
       "[166, 150, 152, 193, 161]"
      ]
     },
     "execution_count": 23,
     "metadata": {},
     "output_type": "execute_result"
    }
   ],
   "source": [
    "# list of number of all restaurants for the given postcodes\n",
    "no_rest_for_top_5 = [i[\"count\"] for i in top_5_most_rest]\n",
    "no_rest_for_top_5"
   ]
  },
  {
   "cell_type": "code",
   "execution_count": 24,
   "metadata": {},
   "outputs": [
    {
     "data": {
      "text/plain": [
       "[{'_id': '10475', 'count': 14},\n",
       " {'_id': '10474', 'count': 10},\n",
       " {'_id': '10473', 'count': 3},\n",
       " {'_id': '10472', 'count': 9},\n",
       " {'_id': '10471', 'count': 17},\n",
       " {'_id': '10470', 'count': 8},\n",
       " {'_id': '10469', 'count': 10},\n",
       " {'_id': '10468', 'count': 12},\n",
       " {'_id': '10467', 'count': 15},\n",
       " {'_id': '10466', 'count': 11},\n",
       " {'_id': '10465', 'count': 28},\n",
       " {'_id': '10464', 'count': 14},\n",
       " {'_id': '10463', 'count': 28},\n",
       " {'_id': '10462', 'count': 29},\n",
       " {'_id': '10461', 'count': 25},\n",
       " {'_id': '10460', 'count': 12},\n",
       " {'_id': '10459', 'count': 7},\n",
       " {'_id': '10458', 'count': 34},\n",
       " {'_id': '10457', 'count': 14},\n",
       " {'_id': '10456', 'count': 6},\n",
       " {'_id': '10455', 'count': 9},\n",
       " {'_id': '10454', 'count': 10},\n",
       " {'_id': '10453', 'count': 7},\n",
       " {'_id': '10452', 'count': 11},\n",
       " {'_id': '10451', 'count': 68}]"
      ]
     },
     "execution_count": 24,
     "metadata": {},
     "output_type": "execute_result"
    }
   ],
   "source": [
    "cuisine = \"American \"\n",
    "borough = 'Bronx'\n",
    "\n",
    "cuis_rest_in_zip = list(collection.aggregate([\n",
    "    \n",
    "    # filtering/matching the \"cuisine\" key with the most popular cuisine from most_popular_cuisine()\n",
    "    # and the \"borough\" key with the chosen borough from the ratio_per_borough_and_cuisine() \n",
    "    {\"$match\": {\"cuisine\": cuisine, \"borough\": borough}},\n",
    "    \n",
    "    # counting restaurants for all zipcodes in the chosen borough with the chosen cuisine\n",
    "    {\"$group\": {\"_id\": \"$address.zipcode\", \"count\": {\"$sum\": 1}}},\n",
    "    \n",
    "    # sorting zipcodes in an descending order\n",
    "    # this is important for calculating the ratio of restaurants\n",
    "    # of the chosen cuisine in the following steps\n",
    "    {\"$sort\": {\"_id\": -1}},\n",
    "    \n",
    "]))\n",
    "\n",
    "cuis_rest_in_zip"
   ]
  },
  {
   "cell_type": "code",
   "execution_count": 25,
   "metadata": {
    "scrolled": true
   },
   "outputs": [
    {
     "data": {
      "text/plain": [
       "[15, 29, 25, 34, 68]"
      ]
     },
     "execution_count": 25,
     "metadata": {},
     "output_type": "execute_result"
    }
   ],
   "source": [
    "# list of the number of the \"cuisine\" restaurants in the top-5 zipcodes having the most of restaurants\n",
    "cuis_rest_in_top_5_zip = [i['count'] for i in cuis_rest_in_zip if i['_id'] in top_5_zip]\n",
    "cuis_rest_in_top_5_zip"
   ]
  },
  {
   "cell_type": "code",
   "execution_count": 26,
   "metadata": {
    "scrolled": true
   },
   "outputs": [
    {
     "data": {
      "text/plain": [
       "[0.09036144578313253,\n",
       " 0.19333333333333333,\n",
       " 0.16447368421052633,\n",
       " 0.17616580310880828,\n",
       " 0.422360248447205]"
      ]
     },
     "execution_count": 26,
     "metadata": {},
     "output_type": "execute_result"
    }
   ],
   "source": [
    "# list of ratios of the \"cuisine\" restaurants to all restaurants for top 5 zipcodes\n",
    "ratio_top_5 = [cuis / top5 for cuis , top5 in zip(cuis_rest_in_top_5_zip, no_rest_for_top_5)]\n",
    "ratio_top_5"
   ]
  },
  {
   "cell_type": "code",
   "execution_count": 27,
   "metadata": {},
   "outputs": [
    {
     "data": {
      "text/plain": [
       "'10467'"
      ]
     },
     "execution_count": 27,
     "metadata": {},
     "output_type": "execute_result"
    }
   ],
   "source": [
    "# the target zipcode\n",
    "target_zip = top_5_zip[ratio_top_5.index(min(ratio_top_5))]\n",
    "target_zip"
   ]
  },
  {
   "cell_type": "code",
   "execution_count": 28,
   "metadata": {},
   "outputs": [
    {
     "data": {
      "text/plain": [
       "9.036144578313253"
      ]
     },
     "execution_count": 28,
     "metadata": {},
     "output_type": "execute_result"
    }
   ],
   "source": [
    "# the lowest ratio \n",
    "ratio = min(ratio_top_5) * 100\n",
    "ratio"
   ]
  },
  {
   "cell_type": "markdown",
   "metadata": {},
   "source": [
    "## Nhap cau 4"
   ]
  },
  {
   "cell_type": "code",
   "execution_count": 34,
   "metadata": {},
   "outputs": [
    {
     "data": {
      "text/plain": [
       "[{'_id': 'Woodlawn Cafe', 'count': 6},\n",
       " {'_id': 'Burger Barn Restaurant', 'count': 5},\n",
       " {'_id': 'Gasolina Bar Lounge', 'count': 2},\n",
       " {'_id': 'Zymi Bar & Grill', 'count': 3},\n",
       " {'_id': 'Allerton Diner', 'count': 2},\n",
       " {'_id': 'Moshulo Golf Course', 'count': 1},\n",
       " {'_id': \"Kennedy'S Chicken And Pizza\", 'count': 5},\n",
       " {'_id': 'Coffee Shop', 'count': 5},\n",
       " {'_id': 'Kennedy Fried Chicken', 'count': 4},\n",
       " {'_id': 'Salud Y Estilo De Vida', 'count': 4},\n",
       " {'_id': \"Nicky'S Coffee Shop\", 'count': 5},\n",
       " {'_id': '502 Bar Lounge', 'count': 4},\n",
       " {'_id': \"Kennedy'S Chicken & Pizza\", 'count': 1},\n",
       " {'_id': \"John'S Luncheonette\", 'count': 5},\n",
       " {'_id': \"V.I.P.'S Cafe\", 'count': 6}]"
      ]
     },
     "execution_count": 34,
     "metadata": {},
     "output_type": "execute_result"
    }
   ],
   "source": [
    "cuisine = 'American '\n",
    "borough = 'Bronx'\n",
    "zipcode = '10467'\n",
    "\n",
    "#...\n",
    "rest_review_count = list(collection.aggregate([\n",
    "    \n",
    "    # filtering/matching the \"cuisine\" key with the most popular cuisine from most_popular_cuisine(),\n",
    "    # the \"borough\" key with the chosen borough from the ratio_per_borough_and_cuisine()\n",
    "    # and \"zipcode\" with the chosen zipcodes from the ratio_per_zipcode()\n",
    "    {\"$match\": {\"address.zipcode\": zipcode, \"borough\": borough,\"cuisine\": cuisine}},\n",
    "    \n",
    "    # drilling down the 'grade' field\n",
    "    {\"$unwind\": \"$grades\"},\n",
    "    \n",
    "    # counting no. of reviews for each restaurants\n",
    "    {\"$group\": {\"_id\": \"$name\", \"count\": {\"$sum\": 1}}}\n",
    "]))\n",
    "\n",
    "rest_review_count"
   ]
  },
  {
   "cell_type": "code",
   "execution_count": 35,
   "metadata": {},
   "outputs": [
    {
     "data": {
      "text/plain": [
       "['Woodlawn Cafe',\n",
       " 'Burger Barn Restaurant',\n",
       " \"Kennedy'S Chicken And Pizza\",\n",
       " 'Coffee Shop',\n",
       " 'Kennedy Fried Chicken',\n",
       " 'Salud Y Estilo De Vida',\n",
       " \"Nicky'S Coffee Shop\",\n",
       " '502 Bar Lounge',\n",
       " \"John'S Luncheonette\",\n",
       " \"V.I.P.'S Cafe\"]"
      ]
     },
     "execution_count": 35,
     "metadata": {},
     "output_type": "execute_result"
    }
   ],
   "source": [
    "# list of restaurants having at least 4 reviews\n",
    "rest_list = [i['_id'] for i in rest_review_count if i['count'] >= 4]\n",
    "rest_list"
   ]
  },
  {
   "cell_type": "code",
   "execution_count": 38,
   "metadata": {},
   "outputs": [
    {
     "data": {
      "text/plain": [
       "[{'_id': \"Kennedy'S Chicken And Pizza\", 'average_score': 15.8},\n",
       " {'_id': \"V.I.P.'S Cafe\", 'average_score': 12.666666666666666},\n",
       " {'_id': 'Burger Barn Restaurant', 'average_score': 12.6}]"
      ]
     },
     "execution_count": 38,
     "metadata": {},
     "output_type": "execute_result"
    }
   ],
   "source": [
    "#...\n",
    "target_rest = list(collection.aggregate([\n",
    "    \n",
    "    # getting info from restaurants having at least 4 reviews\n",
    "    {\"$match\": {\"name\": {\"$in\": rest_list}}},\n",
    "    \n",
    "    # drilling down the 'grade' field\n",
    "    {\"$unwind\": \"$grades\"},\n",
    "    \n",
    "    # calculating avarage review scores for each restaurants\n",
    "    {\"$group\": {\"_id\": \"$name\", \"average_score\": {\"$avg\": \"$grades.score\"}}},\n",
    "    \n",
    "    # sorting restaurants having the average review scores in a descending order\n",
    "    {\"$sort\": {\"average_score\": -1}},\n",
    "    \n",
    "    # getting the top three restaurants having the best average review scores\n",
    "    {\"$limit\": 3}\n",
    "]))\n",
    "\n",
    "target_rest"
   ]
  },
  {
   "cell_type": "code",
   "execution_count": 37,
   "metadata": {},
   "outputs": [],
   "source": [
    "# getting restaurants' names and their average review scores\n",
    "names, reviews = [i['_id'] for i in target_rest], [i['average_score'] for i in target_rest]"
   ]
  }
 ],
 "metadata": {
  "kernelspec": {
   "display_name": "Python 3",
   "language": "python",
   "name": "python3"
  },
  "language_info": {
   "codemirror_mode": {
    "name": "ipython",
    "version": 3
   },
   "file_extension": ".py",
   "mimetype": "text/x-python",
   "name": "python",
   "nbconvert_exporter": "python",
   "pygments_lexer": "ipython3",
   "version": "3.7.3"
  }
 },
 "nbformat": 4,
 "nbformat_minor": 2
}
